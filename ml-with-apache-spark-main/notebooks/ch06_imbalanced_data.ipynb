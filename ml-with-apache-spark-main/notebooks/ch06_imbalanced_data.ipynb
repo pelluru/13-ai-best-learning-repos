{
 "cells": [
  {
   "cell_type": "code",
   "execution_count": 1,
   "id": "toxic-maldives",
   "metadata": {},
   "outputs": [],
   "source": [
    "from pyspark.sql import SparkSession \n",
    "\n",
    "spark = SparkSession.builder \\\n",
    "    .master('local[*]') \\\n",
    "    .appName(\"Intro\") \\\n",
    "    .getOrCreate()\n",
    "\n"
   ]
  },
  {
   "cell_type": "code",
   "execution_count": 2,
   "id": "extra-quebec",
   "metadata": {},
   "outputs": [],
   "source": [
    "df = spark.createDataFrame([\n",
    "    (0, \"Hi I think pyspark is cool \",\"happy\"),\n",
    "    (1, \"All I want is a pyspark cluster\",\"indifferent\"),\n",
    "    (2, \"I finally understand how ML works\",\"fulfill\"),\n",
    "    (3, \"Yet another sentence about pyspark and ML\",\"indifferent\"),\n",
    "    (4, \"Why didn't I know about mllib before\",\"sad\"),\n",
    "    (5, \"Yes, I can\",\"happy\")\n",
    "], [\"id\", \"sentence\", \"sentiment\"])"
   ]
  },
  {
   "cell_type": "code",
   "execution_count": 3,
   "id": "million-eight",
   "metadata": {},
   "outputs": [
    {
     "data": {
      "text/plain": [
       "DataFrame[id: bigint, sentence: string, sentiment: string]"
      ]
     },
     "execution_count": 3,
     "metadata": {},
     "output_type": "execute_result"
    }
   ],
   "source": [
    "df"
   ]
  },
  {
   "cell_type": "markdown",
   "id": "correct-bailey",
   "metadata": {},
   "source": [
    "# Start Featurization process"
   ]
  },
  {
   "cell_type": "markdown",
   "id": "coordinated-badge",
   "metadata": {},
   "source": [
    "# Leverage algo to target Imbalanced Data: \n",
    "Similar featurization process as before, only now we have one label for every data entry"
   ]
  },
  {
   "cell_type": "code",
   "execution_count": 4,
   "id": "hollywood-calibration",
   "metadata": {},
   "outputs": [],
   "source": [
    "# stop words:\n",
    "from pyspark.ml.feature import StopWordsRemover\n",
    "from pyspark.ml.feature import Tokenizer\n",
    "\n",
    "remover = StopWordsRemover()\n",
    "tokenizer = Tokenizer(inputCol=\"sentence\", outputCol=\"words\")\n",
    "tokenized = tokenizer.transform(df)\n",
    "\n",
    "remover.setInputCol(\"words\")\n",
    "remover.setOutputCol(\"clean_words\")\n",
    "\n",
    "df = remover.transform(tokenized)"
   ]
  },
  {
   "cell_type": "code",
   "execution_count": 5,
   "id": "maritime-astrology",
   "metadata": {},
   "outputs": [
    {
     "name": "stdout",
     "output_type": "stream",
     "text": [
      "+---+-----------------------------------------+-----------+-------------------------------------------------+-------------------------------------+---------------------------------------------------------------------+\n",
      "|id |sentence                                 |sentiment  |words                                            |clean_words                          |ngrams                                                               |\n",
      "+---+-----------------------------------------+-----------+-------------------------------------------------+-------------------------------------+---------------------------------------------------------------------+\n",
      "|0  |Hi I think pyspark is cool               |happy      |[hi, i, think, pyspark, is, cool]                |[hi, think, pyspark, cool]           |[hi think pyspark, think pyspark cool]                               |\n",
      "|1  |All I want is a pyspark cluster          |indifferent|[all, i, want, is, a, pyspark, cluster]          |[want, pyspark, cluster]             |[want pyspark cluster]                                               |\n",
      "|2  |I finally understand how ML works        |fulfill    |[i, finally, understand, how, ml, works]         |[finally, understand, ml, works]     |[finally understand ml, understand ml works]                         |\n",
      "|3  |Yet another sentence about pyspark and ML|indifferent|[yet, another, sentence, about, pyspark, and, ml]|[yet, another, sentence, pyspark, ml]|[yet another sentence, another sentence pyspark, sentence pyspark ml]|\n",
      "|4  |Why didn't I know about mllib before     |sad        |[why, didn't, i, know, about, mllib, before]     |[know, mllib]                        |[]                                                                   |\n",
      "+---+-----------------------------------------+-----------+-------------------------------------------------+-------------------------------------+---------------------------------------------------------------------+\n",
      "only showing top 5 rows\n",
      "\n"
     ]
    }
   ],
   "source": [
    "from pyspark.ml.feature import NGram\n",
    "\n",
    "ngram = NGram(n=3, inputCol=\"clean_words\", outputCol=\"ngrams\")\n",
    "test = ngram.transform(df)\n",
    "test.show(5,truncate=False)"
   ]
  },
  {
   "cell_type": "code",
   "execution_count": 6,
   "id": "qualified-tours",
   "metadata": {},
   "outputs": [],
   "source": [
    "df = test"
   ]
  },
  {
   "cell_type": "code",
   "execution_count": 7,
   "id": "median-paper",
   "metadata": {},
   "outputs": [
    {
     "name": "stdout",
     "output_type": "stream",
     "text": [
      "+-----------------------------------------+-----+\n",
      "|features                                 |label|\n",
      "+-----------------------------------------+-----+\n",
      "|(65536,[16887,26010],[0.0,0.0])          |0.0  |\n",
      "|(65536,[57587],[0.0])                    |1.0  |\n",
      "|(65536,[34782,39758],[0.0,0.0])          |2.0  |\n",
      "|(65536,[11730,34744,49304],[0.0,0.0,0.0])|1.0  |\n",
      "|(65536,[],[])                            |3.0  |\n",
      "+-----------------------------------------+-----+\n",
      "only showing top 5 rows\n",
      "\n"
     ]
    }
   ],
   "source": [
    "from pyspark.ml.feature import StringIndexer\n",
    "from pyspark.ml.feature import HashingTF, IDF\n",
    "from pyspark.ml import Pipeline\n",
    "\n",
    "hashtf = HashingTF(numFeatures=2**16, inputCol=\"ngrams\", outputCol='tf')\n",
    "idf = IDF(inputCol='tf', outputCol=\"features\", minDocFreq=2) #minDocFreq: remove sparse terms\n",
    "label_stringIdx = StringIndexer(inputCol = \"sentiment\", outputCol = \"label\")\n",
    "\n",
    "# example of how pipelines can help us orchestrate the featurization! \n",
    "pipeline = Pipeline(stages=[hashtf, idf, label_stringIdx])\n",
    "pipelineFit = pipeline.fit(test)\n",
    "train_df = pipelineFit.transform(test)\n",
    "train_df.select(\"features\",\"label\").show(5,truncate=False)\n",
    "\n",
    "# now our train data is ready to be used to produce classifier"
   ]
  },
  {
   "cell_type": "markdown",
   "id": "located-access",
   "metadata": {},
   "source": [
    "# Using GBTClassifier with specifiying strategy"
   ]
  },
  {
   "cell_type": "code",
   "execution_count": 17,
   "id": "detailed-accessory",
   "metadata": {},
   "outputs": [],
   "source": [
    "from pyspark.ml.classification import RandomForestClassifier\n",
    "\n",
    "# Train a RandomForestClassifier model with a dedicate feature subset strategy\n",
    "rf = RandomForestClassifier(labelCol=\"label\", featuresCol=\"features\",featureSubsetStrategy=\"log2\")\n",
    "model = rf.fit(train_df)"
   ]
  },
  {
   "cell_type": "code",
   "execution_count": 18,
   "id": "metallic-sterling",
   "metadata": {},
   "outputs": [
    {
     "data": {
      "text/plain": [
       "DataFrame[id: bigint, sentence: string, sentiment: string, words: array<string>, clean_words: array<string>, ngrams: array<string>, tf: vector, features: vector, label: double, rawPrediction: vector, probability: vector, prediction: double]"
      ]
     },
     "execution_count": 18,
     "metadata": {},
     "output_type": "execute_result"
    }
   ],
   "source": [
    "# Make predictions.\n",
    "predictions = model.transform(train_df)\n",
    "\n",
    "# Select example rows to display.\n",
    "predictions"
   ]
  },
  {
   "cell_type": "code",
   "execution_count": 19,
   "id": "dressed-barrel",
   "metadata": {},
   "outputs": [
    {
     "name": "stdout",
     "output_type": "stream",
     "text": [
      "root\n",
      " |-- id: long (nullable = true)\n",
      " |-- sentence: string (nullable = true)\n",
      " |-- sentiment: string (nullable = true)\n",
      " |-- words: array (nullable = true)\n",
      " |    |-- element: string (containsNull = true)\n",
      " |-- clean_words: array (nullable = true)\n",
      " |    |-- element: string (containsNull = true)\n",
      " |-- ngrams: array (nullable = true)\n",
      " |    |-- element: string (containsNull = true)\n",
      " |-- tf: vector (nullable = true)\n",
      " |-- features: vector (nullable = true)\n",
      " |-- label: double (nullable = false)\n",
      " |-- rawPrediction: vector (nullable = true)\n",
      " |-- probability: vector (nullable = true)\n",
      " |-- prediction: double (nullable = false)\n",
      "\n"
     ]
    }
   ],
   "source": [
    "predictions.printSchema()"
   ]
  },
  {
   "cell_type": "code",
   "execution_count": 20,
   "id": "collect-sweet",
   "metadata": {},
   "outputs": [
    {
     "name": "stdout",
     "output_type": "stream",
     "text": [
      "+--------------------+-----+--------------------+----------+\n",
      "|       rawPrediction|label|         probability|prediction|\n",
      "+--------------------+-----+--------------------+----------+\n",
      "|[6.90649350649350...|  0.0|[0.34532467532467...|       1.0|\n",
      "|[6.90649350649350...|  1.0|[0.34532467532467...|       1.0|\n",
      "|[6.90649350649350...|  2.0|[0.34532467532467...|       1.0|\n",
      "|[6.90649350649350...|  1.0|[0.34532467532467...|       1.0|\n",
      "|[6.90649350649350...|  3.0|[0.34532467532467...|       1.0|\n",
      "+--------------------+-----+--------------------+----------+\n",
      "only showing top 5 rows\n",
      "\n"
     ]
    }
   ],
   "source": [
    "predictions.select(\"rawPrediction\",\"label\",\"probability\",\"prediction\").show(5,truncate=True)"
   ]
  },
  {
   "cell_type": "code",
   "execution_count": null,
   "id": "educated-correction",
   "metadata": {},
   "outputs": [],
   "source": []
  }
 ],
 "metadata": {
  "kernelspec": {
   "display_name": "Python 3",
   "language": "python",
   "name": "python3"
  },
  "language_info": {
   "codemirror_mode": {
    "name": "ipython",
    "version": 3
   },
   "file_extension": ".py",
   "mimetype": "text/x-python",
   "name": "python",
   "nbconvert_exporter": "python",
   "pygments_lexer": "ipython3",
   "version": "3.9.4"
  }
 },
 "nbformat": 4,
 "nbformat_minor": 5
}
