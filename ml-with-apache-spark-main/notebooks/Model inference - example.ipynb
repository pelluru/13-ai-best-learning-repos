{
 "cells": [
  {
   "cell_type": "code",
   "execution_count": 5,
   "id": "c686250b",
   "metadata": {},
   "outputs": [],
   "source": [
    "import mlflow\n",
    "import mlflow.keras\n",
    "from pyspark.sql.types import ArrayType, StringType\n",
    "from pyspark.sql.functions import col, struct\n",
    "\n",
    "from tensorflow import keras\n",
    "import tensorflow as tf"
   ]
  },
  {
   "cell_type": "markdown",
   "id": "f53c3595",
   "metadata": {},
   "source": [
    " ### Move model from TesnorFlow to MLFlow registry"
   ]
  },
  {
   "cell_type": "code",
   "execution_count": null,
   "id": "32939824",
   "metadata": {},
   "outputs": [],
   "source": [
    "model_path =  \"/home/jovyan/dist-tf-model/\""
   ]
  },
  {
   "cell_type": "code",
   "execution_count": null,
   "id": "44068a22",
   "metadata": {},
   "outputs": [],
   "source": [
    "restored_keras_model = tf.keras.models.load_model(model_path)"
   ]
  },
  {
   "cell_type": "code",
   "execution_count": null,
   "id": "7410aa2e",
   "metadata": {},
   "outputs": [],
   "source": [
    "with mlflow.start_run() as run:\n",
    "    mlflow.keras.log_model(restored_keras_model, \"models\")"
   ]
  },
  {
   "cell_type": "code",
   "execution_count": 9,
   "id": "83ea85e1",
   "metadata": {},
   "outputs": [],
   "source": [
    "run_id =\"425438f8a7b0471d9413684deeb63deb\"\n",
    "experiment_id = \"0\""
   ]
  },
  {
   "cell_type": "code",
   "execution_count": 6,
   "id": "d577652f",
   "metadata": {},
   "outputs": [],
   "source": [
    "from pyspark.sql import SparkSession\n",
    "from pyspark.sql.functions import col\n",
    "import pyspark.sql.functions \n",
    "from pyspark.sql.types import *\n",
    "\n",
    "spark = SparkSession \\\n",
    "    .builder \\\n",
    "    .appName(\"Model inference\") \\\n",
    "    .getOrCreate()"
   ]
  },
  {
   "cell_type": "markdown",
   "id": "f73783d8",
   "metadata": {},
   "source": [
    "### Define mlfloyw.pyfunc wrapper for the Model: "
   ]
  },
  {
   "cell_type": "code",
   "execution_count": 7,
   "id": "f9c44fee",
   "metadata": {},
   "outputs": [],
   "source": [
    "# TIP: Create custom Python pyfunc model that transforms and predicts on inference data\n",
    "# Allows the inference pipeline to be independent of the model framework used in training pipeline\n",
    "class KerasCNNModelWrapper(mlflow.pyfunc.PythonModel):\n",
    "  def __init__(self, model_path):\n",
    "    self.model_path = model_path\n",
    "\n",
    "  def load_context(self, context):\n",
    "    # Load the Keras-native representation of the MLflow\n",
    "    # model\n",
    "    print(self.model_path)\n",
    "    self.model = mlflow.keras.load_model(\n",
    "        model_uri=self.model_path)\n",
    "\n",
    "  def predict(self, context, model_input):\n",
    "    import tensorflow as tf\n",
    "    import json\n",
    "\n",
    "    class_def = {\n",
    "      0: '212.teapot', \n",
    "      1: '234.tweezer', \n",
    "      2: '196.spaghetti', \n",
    "      3: '249.yo-yo', \n",
    "    }\n",
    "\n",
    "    model_input['origin'] = model_input['origin'].str.replace(\"dbfs:\",\"/dbfs\")\n",
    "    images = model_input['origin']\n",
    "\n",
    "    rtn_df = model_input.iloc[:,0:1]\n",
    "    rtn_df['prediction'] = None\n",
    "    rtn_df['probabilities'] = None\n",
    "\n",
    "    for index, row in model_input.iterrows():\n",
    "      image = np.round(np.array(Image.open(row['origin']).resize((224,224)),dtype=np.float32))\n",
    "      img = tf.reshape(image, shape=[-1, 224, 224, 3])\n",
    "      class_probs = self.model.predict(img)\n",
    "      classes = np.argmax(class_probs, axis=1)\n",
    "      class_prob_dict = dict()\n",
    "      for key, val in class_def.items():\n",
    "        class_prob_dict[val] = np.round(np.float(class_probs[0][int(key)]), 3).tolist()\n",
    "      rtn_df.loc[index,'prediction'] = classes[0]\n",
    "      rtn_df.loc[index,'probabilities'] = json.dumps(class_prob_dict)\n",
    "\n",
    "    return rtn_df[['prediction', 'probabilities']].values.tolist()\n"
   ]
  },
  {
   "cell_type": "code",
   "execution_count": 10,
   "id": "97eab4ec",
   "metadata": {},
   "outputs": [
    {
     "name": "stdout",
     "output_type": "stream",
     "text": [
      "Inside MLflow Run with run_id `425438f8a7b0471d9413684deeb63deb` and experiment_id `0`\n"
     ]
    }
   ],
   "source": [
    "model_path = f\"file:/home/jovyan/mlruns/{experiment_id}/{run_id}/artifacts/models\"\n",
    "wrappedModel = KerasCNNModelWrapper(model_path)\n",
    "mlflow.pyfunc.log_model(\"pyfunc_model_v2\", python_model=wrappedModel)\n",
    "print(f\"Inside MLflow Run with run_id `{run_id}` and experiment_id `{experiment_id}`\")"
   ]
  },
  {
   "cell_type": "markdown",
   "id": "4075e0dc",
   "metadata": {},
   "source": [
    "#### Test the model with mlflow.pyfunc"
   ]
  },
  {
   "cell_type": "code",
   "execution_count": 12,
   "id": "29a6ba4f",
   "metadata": {},
   "outputs": [],
   "source": [
    "# Test data. Using the same dataframe in this example\n",
    "images_df = spark.read.parquet( \"images_data/silver/augmented\")\n",
    "model_path = f\"file:/home/jovyan/mlruns/{experiment_id}/{run_id}/artifacts/models\"\n",
    "\n",
    "# Always use the Production version of the model from the registry\n",
    "mlflow_model_path = model_path\n",
    "\n",
    "# Load model as a Spark UDF.\n",
    "loaded_model = mlflow.pyfunc.spark_udf(spark, mlflow_model_path, result_type=ArrayType(StringType()))\n",
    "\n",
    "# Predict on a Spark DataFrame.\n",
    "scored_df = (images_df\n",
    "             .withColumn('origin', col(\"content\"))\n",
    "             .withColumn('my_predictions', loaded_model(struct(\"origin\")))\n",
    "             .drop(\"origin\"))\n"
   ]
  },
  {
   "cell_type": "code",
   "execution_count": null,
   "id": "22124219",
   "metadata": {},
   "outputs": [],
   "source": [
    "scored_df.show(5, truncate=False)"
   ]
  },
  {
   "cell_type": "code",
   "execution_count": null,
   "id": "00707c73",
   "metadata": {},
   "outputs": [],
   "source": []
  }
 ],
 "metadata": {
  "kernelspec": {
   "display_name": "Python 3",
   "language": "python",
   "name": "python3"
  },
  "language_info": {
   "codemirror_mode": {
    "name": "ipython",
    "version": 3
   },
   "file_extension": ".py",
   "mimetype": "text/x-python",
   "name": "python",
   "nbconvert_exporter": "python",
   "pygments_lexer": "ipython3",
   "version": "3.9.4"
  }
 },
 "nbformat": 4,
 "nbformat_minor": 5
}
